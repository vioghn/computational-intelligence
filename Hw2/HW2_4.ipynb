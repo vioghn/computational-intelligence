{
  "cells": [
    {
      "cell_type": "markdown",
      "metadata": {
        "id": "mqg4KSj_8Nz1"
      },
      "source": [
        "# In this notebook, we run an MLP model on dataset hoda and examine the results in terms of underfitting, fitting and overfitting."
      ]
    },
    {
      "cell_type": "code",
      "source": [],
      "metadata": {
        "id": "rY9ECvhT-bmB"
      },
      "execution_count": null,
      "outputs": []
    },
    {
      "cell_type": "markdown",
      "metadata": {
        "id": "IVk_5eoO76sj"
      },
      "source": [
        "## Download dataset"
      ]
    },
    {
      "cell_type": "code",
      "execution_count": 1,
      "metadata": {
        "colab": {
          "base_uri": "https://localhost:8080/"
        },
        "id": "TjoQGt01Ujx1",
        "outputId": "377cdb0e-25fd-41d0-e323-edd1721c44ae"
      },
      "outputs": [
        {
          "output_type": "stream",
          "name": "stdout",
          "text": [
            "Downloading...\n",
            "From: https://drive.google.com/uc?id=1QJrQsEYOfPBn1LoIeYMZ2HFBRC0AY-6F\n",
            "To: /content/dataset.py\n",
            "100% 909/909 [00:00<00:00, 3.68MB/s]\n",
            "Downloading...\n",
            "From: https://drive.google.com/uc?id=1zStcaVl_34RrYIfVObuM4xzB6s8xwvBi\n",
            "To: /content/Data_hoda_full.mat\n",
            "100% 3.99M/3.99M [00:00<00:00, 39.7MB/s]\n"
          ]
        }
      ],
      "source": [
        "!gdown --fuzzy https://drive.google.com/file/d/1QJrQsEYOfPBn1LoIeYMZ2HFBRC0AY-6F/view?usp=sharing\n",
        "!gdown --fuzzy https://drive.google.com/file/d/1zStcaVl_34RrYIfVObuM4xzB6s8xwvBi/view?usp=sharing"
      ]
    },
    {
      "cell_type": "markdown",
      "metadata": {
        "id": "ruebTHNSBqRD"
      },
      "source": [
        "## Importing libraries"
      ]
    },
    {
      "cell_type": "code",
      "execution_count": 2,
      "metadata": {
        "id": "WhoXKRptiRDe"
      },
      "outputs": [],
      "source": [
        "import keras\n",
        "import numpy as np\n",
        "import matplotlib.pyplot as plt\n",
        "\n",
        "from keras.models import Sequential\n",
        "from keras.layers import Dense,  Activation\n",
        "from dataset import load_hoda"
      ]
    },
    {
      "cell_type": "markdown",
      "metadata": {
        "id": "ku75DKlg_f9y"
      },
      "source": [
        "# Load dataset"
      ]
    },
    {
      "cell_type": "code",
      "execution_count": 3,
      "metadata": {
        "id": "4D7VhBCKiVWl"
      },
      "outputs": [],
      "source": [
        "x_train_original, y_train_original, x_test_original, y_test_original = load_hoda()"
      ]
    },
    {
      "cell_type": "markdown",
      "metadata": {
        "id": "Wruhn4AmB5zC"
      },
      "source": [
        "### Converting x_train and x_test to ndarray array format and converting y_train and y_test to one-hot-encoding:\n",
        "####First, we have defined a simple function that prints the dimensions, data type and information of the loaded dataset. We will print this information before and after data preprocessing to notice the changes!"
      ]
    },
    {
      "cell_type": "code",
      "execution_count": 4,
      "metadata": {
        "id": "nbSZTm93iVb9"
      },
      "outputs": [],
      "source": [
        "# Preprocess input data for Keras.\n",
        "x_train = np.array(x_train_original)\n",
        "y_train = keras.utils.to_categorical(y_train_original, num_classes=10)\n",
        "x_test = np.array(x_test_original)\n",
        "y_test = keras.utils.to_categorical(y_test_original, num_classes=10)"
      ]
    },
    {
      "cell_type": "code",
      "execution_count": 5,
      "metadata": {
        "id": "u5Gvz63iiVZV"
      },
      "outputs": [],
      "source": [
        "def print_data_info(x_train, y_train, x_test, y_test):\n",
        "    #Check data Type\n",
        "    print (\"\\ttype(x_train): {}\".format(type(x_train)))\n",
        "    print (\"\\ttype(y_train): {}\".format(type(y_train)))\n",
        "\n",
        "    #check data Shape\n",
        "    print (\"\\tx_train.shape: {}\".format(np.shape(x_train)))\n",
        "    print (\"\\ty_train.shape: {}\".format(np.shape(y_train)))\n",
        "    print (\"\\tx_test.shape: {}\".format(np.shape(x_test)))\n",
        "    print (\"\\ty_test.shape: {}\".format(np.shape(y_test)))\n",
        "\n",
        "    #sample data\n",
        "    print (\"\\ty_train[0]: {}\".format(y_train[0]))"
      ]
    },
    {
      "cell_type": "code",
      "execution_count": 6,
      "metadata": {
        "colab": {
          "base_uri": "https://localhost:8080/"
        },
        "id": "0C5eJsmeiVe2",
        "outputId": "90b4e1bf-e5ff-4330-d667-1f2497091f57"
      },
      "outputs": [
        {
          "output_type": "stream",
          "name": "stdout",
          "text": [
            "Before Preprocessing:\n",
            "\ttype(x_train): <class 'numpy.ndarray'>\n",
            "\ttype(y_train): <class 'numpy.ndarray'>\n",
            "\tx_train.shape: (1000, 25)\n",
            "\ty_train.shape: (1000,)\n",
            "\tx_test.shape: (200, 25)\n",
            "\ty_test.shape: (200,)\n",
            "\ty_train[0]: 6\n",
            "After Preprocessing:\n",
            "\ttype(x_train): <class 'numpy.ndarray'>\n",
            "\ttype(y_train): <class 'numpy.ndarray'>\n",
            "\tx_train.shape: (1000, 25)\n",
            "\ty_train.shape: (1000, 10)\n",
            "\tx_test.shape: (200, 25)\n",
            "\ty_test.shape: (200, 10)\n",
            "\ty_train[0]: [0. 0. 0. 0. 0. 0. 1. 0. 0. 0.]\n"
          ]
        }
      ],
      "source": [
        "print(\"Before Preprocessing:\")\n",
        "print_data_info(x_train_original, y_train_original, x_test_original, y_test_original)\n",
        "print(\"After Preprocessing:\")\n",
        "print_data_info(x_train, y_train, x_test, y_test)"
      ]
    },
    {
      "cell_type": "code",
      "execution_count": 7,
      "metadata": {
        "id": "ignnQ8cqidv_"
      },
      "outputs": [],
      "source": [
        "x_train = x_train.astype('float32')\n",
        "x_test = x_test.astype('float32')\n",
        "x_train /= 255\n",
        "x_test /= 255"
      ]
    },
    {
      "cell_type": "code",
      "execution_count": 8,
      "metadata": {
        "id": "cEQisVlqidyt"
      },
      "outputs": [],
      "source": [
        "# In this Create the model, input dim=25 and output dim = 10\n",
        "\n",
        "##################################\n",
        "# you\n",
        "##################################\n",
        "model = Sequential([\n",
        "    Dense(25, input_shape=(25,), activation='relu'),\n",
        "    Dense(10, activation='softmax')\n",
        "])"
      ]
    },
    {
      "cell_type": "code",
      "execution_count": 9,
      "metadata": {
        "id": "gk4rIwjbid3W",
        "colab": {
          "base_uri": "https://localhost:8080/"
        },
        "outputId": "af9952c9-c075-4456-93eb-b7be1214cd7d"
      },
      "outputs": [
        {
          "output_type": "stream",
          "name": "stdout",
          "text": [
            "Model: \"sequential\"\n",
            "_________________________________________________________________\n",
            " Layer (type)                Output Shape              Param #   \n",
            "=================================================================\n",
            " dense (Dense)               (None, 25)                650       \n",
            "                                                                 \n",
            " dense_1 (Dense)             (None, 10)                260       \n",
            "                                                                 \n",
            "=================================================================\n",
            "Total params: 910 (3.55 KB)\n",
            "Trainable params: 910 (3.55 KB)\n",
            "Non-trainable params: 0 (0.00 Byte)\n",
            "_________________________________________________________________\n"
          ]
        }
      ],
      "source": [
        "model.summary()"
      ]
    },
    {
      "cell_type": "markdown",
      "metadata": {
        "id": "XVBSerPdCxnL"
      },
      "source": [
        "## Compile model"
      ]
    },
    {
      "cell_type": "code",
      "execution_count": 18,
      "metadata": {
        "id": "ZJVfanv2id52"
      },
      "outputs": [],
      "source": [
        "# In this cell compile mode, set loss function and optimizer and get metrics accuracy\n",
        "\n",
        "##################################\n",
        "model.compile(optimizer=\"adam\", loss=\"mean_squared_error\", metrics=[\"accuracy\"])\n",
        "##################################"
      ]
    },
    {
      "cell_type": "markdown",
      "metadata": {
        "id": "Uz92ZcWOJFFU"
      },
      "source": [
        "## Fit model"
      ]
    },
    {
      "cell_type": "code",
      "execution_count": 19,
      "metadata": {
        "id": "ZaKtROcxinbV",
        "colab": {
          "base_uri": "https://localhost:8080/"
        },
        "outputId": "a4ee7db5-09f7-4e5a-bc38-60097bafc99e"
      },
      "outputs": [
        {
          "output_type": "stream",
          "name": "stdout",
          "text": [
            "Epoch 1/100\n",
            "16/16 [==============================] - 1s 12ms/step - loss: 0.0877 - accuracy: 0.2100 - val_loss: 0.0875 - val_accuracy: 0.2000\n",
            "Epoch 2/100\n",
            "16/16 [==============================] - 0s 5ms/step - loss: 0.0850 - accuracy: 0.3100 - val_loss: 0.0851 - val_accuracy: 0.2700\n",
            "Epoch 3/100\n",
            "16/16 [==============================] - 0s 5ms/step - loss: 0.0819 - accuracy: 0.3860 - val_loss: 0.0822 - val_accuracy: 0.3500\n",
            "Epoch 4/100\n",
            "16/16 [==============================] - 0s 4ms/step - loss: 0.0781 - accuracy: 0.4390 - val_loss: 0.0787 - val_accuracy: 0.3800\n",
            "Epoch 5/100\n",
            "16/16 [==============================] - 0s 4ms/step - loss: 0.0739 - accuracy: 0.4710 - val_loss: 0.0750 - val_accuracy: 0.4450\n",
            "Epoch 6/100\n",
            "16/16 [==============================] - 0s 4ms/step - loss: 0.0694 - accuracy: 0.5190 - val_loss: 0.0711 - val_accuracy: 0.5100\n",
            "Epoch 7/100\n",
            "16/16 [==============================] - 0s 4ms/step - loss: 0.0647 - accuracy: 0.5740 - val_loss: 0.0667 - val_accuracy: 0.5650\n",
            "Epoch 8/100\n",
            "16/16 [==============================] - 0s 4ms/step - loss: 0.0600 - accuracy: 0.6140 - val_loss: 0.0621 - val_accuracy: 0.6100\n",
            "Epoch 9/100\n",
            "16/16 [==============================] - 0s 4ms/step - loss: 0.0555 - accuracy: 0.6500 - val_loss: 0.0577 - val_accuracy: 0.6450\n",
            "Epoch 10/100\n",
            "16/16 [==============================] - 0s 6ms/step - loss: 0.0515 - accuracy: 0.6730 - val_loss: 0.0534 - val_accuracy: 0.6600\n",
            "Epoch 11/100\n",
            "16/16 [==============================] - 0s 6ms/step - loss: 0.0479 - accuracy: 0.6910 - val_loss: 0.0498 - val_accuracy: 0.6850\n",
            "Epoch 12/100\n",
            "16/16 [==============================] - 0s 6ms/step - loss: 0.0447 - accuracy: 0.7240 - val_loss: 0.0465 - val_accuracy: 0.6850\n",
            "Epoch 13/100\n",
            "16/16 [==============================] - 0s 6ms/step - loss: 0.0421 - accuracy: 0.7420 - val_loss: 0.0438 - val_accuracy: 0.7100\n",
            "Epoch 14/100\n",
            "16/16 [==============================] - 0s 6ms/step - loss: 0.0397 - accuracy: 0.7600 - val_loss: 0.0413 - val_accuracy: 0.7400\n",
            "Epoch 15/100\n",
            "16/16 [==============================] - 0s 5ms/step - loss: 0.0377 - accuracy: 0.7840 - val_loss: 0.0392 - val_accuracy: 0.7650\n",
            "Epoch 16/100\n",
            "16/16 [==============================] - 0s 5ms/step - loss: 0.0358 - accuracy: 0.7870 - val_loss: 0.0374 - val_accuracy: 0.7800\n",
            "Epoch 17/100\n",
            "16/16 [==============================] - 0s 6ms/step - loss: 0.0340 - accuracy: 0.8010 - val_loss: 0.0354 - val_accuracy: 0.7950\n",
            "Epoch 18/100\n",
            "16/16 [==============================] - 0s 5ms/step - loss: 0.0324 - accuracy: 0.8100 - val_loss: 0.0334 - val_accuracy: 0.8150\n",
            "Epoch 19/100\n",
            "16/16 [==============================] - 0s 5ms/step - loss: 0.0306 - accuracy: 0.8300 - val_loss: 0.0316 - val_accuracy: 0.8350\n",
            "Epoch 20/100\n",
            "16/16 [==============================] - 0s 6ms/step - loss: 0.0289 - accuracy: 0.8400 - val_loss: 0.0301 - val_accuracy: 0.8400\n",
            "Epoch 21/100\n",
            "16/16 [==============================] - 0s 7ms/step - loss: 0.0274 - accuracy: 0.8510 - val_loss: 0.0285 - val_accuracy: 0.8550\n",
            "Epoch 22/100\n",
            "16/16 [==============================] - 0s 5ms/step - loss: 0.0262 - accuracy: 0.8570 - val_loss: 0.0272 - val_accuracy: 0.8600\n",
            "Epoch 23/100\n",
            "16/16 [==============================] - 0s 5ms/step - loss: 0.0251 - accuracy: 0.8580 - val_loss: 0.0260 - val_accuracy: 0.8750\n",
            "Epoch 24/100\n",
            "16/16 [==============================] - 0s 6ms/step - loss: 0.0241 - accuracy: 0.8610 - val_loss: 0.0251 - val_accuracy: 0.8750\n",
            "Epoch 25/100\n",
            "16/16 [==============================] - 0s 6ms/step - loss: 0.0232 - accuracy: 0.8610 - val_loss: 0.0243 - val_accuracy: 0.8750\n",
            "Epoch 26/100\n",
            "16/16 [==============================] - 0s 5ms/step - loss: 0.0225 - accuracy: 0.8650 - val_loss: 0.0236 - val_accuracy: 0.8750\n",
            "Epoch 27/100\n",
            "16/16 [==============================] - 0s 6ms/step - loss: 0.0219 - accuracy: 0.8680 - val_loss: 0.0229 - val_accuracy: 0.8700\n",
            "Epoch 28/100\n",
            "16/16 [==============================] - 0s 6ms/step - loss: 0.0213 - accuracy: 0.8720 - val_loss: 0.0224 - val_accuracy: 0.8800\n",
            "Epoch 29/100\n",
            "16/16 [==============================] - 0s 5ms/step - loss: 0.0207 - accuracy: 0.8750 - val_loss: 0.0218 - val_accuracy: 0.8800\n",
            "Epoch 30/100\n",
            "16/16 [==============================] - 0s 6ms/step - loss: 0.0202 - accuracy: 0.8820 - val_loss: 0.0212 - val_accuracy: 0.8900\n",
            "Epoch 31/100\n",
            "16/16 [==============================] - 0s 5ms/step - loss: 0.0198 - accuracy: 0.8870 - val_loss: 0.0209 - val_accuracy: 0.8900\n",
            "Epoch 32/100\n",
            "16/16 [==============================] - 0s 7ms/step - loss: 0.0194 - accuracy: 0.8860 - val_loss: 0.0205 - val_accuracy: 0.8900\n",
            "Epoch 33/100\n",
            "16/16 [==============================] - 0s 6ms/step - loss: 0.0189 - accuracy: 0.8900 - val_loss: 0.0200 - val_accuracy: 0.8950\n",
            "Epoch 34/100\n",
            "16/16 [==============================] - 0s 7ms/step - loss: 0.0187 - accuracy: 0.8930 - val_loss: 0.0197 - val_accuracy: 0.9000\n",
            "Epoch 35/100\n",
            "16/16 [==============================] - 0s 6ms/step - loss: 0.0183 - accuracy: 0.8930 - val_loss: 0.0192 - val_accuracy: 0.8950\n",
            "Epoch 36/100\n",
            "16/16 [==============================] - 0s 5ms/step - loss: 0.0179 - accuracy: 0.8960 - val_loss: 0.0190 - val_accuracy: 0.9050\n",
            "Epoch 37/100\n",
            "16/16 [==============================] - 0s 6ms/step - loss: 0.0176 - accuracy: 0.9010 - val_loss: 0.0186 - val_accuracy: 0.9000\n",
            "Epoch 38/100\n",
            "16/16 [==============================] - 0s 4ms/step - loss: 0.0173 - accuracy: 0.9000 - val_loss: 0.0182 - val_accuracy: 0.9100\n",
            "Epoch 39/100\n",
            "16/16 [==============================] - 0s 5ms/step - loss: 0.0170 - accuracy: 0.9000 - val_loss: 0.0180 - val_accuracy: 0.9050\n",
            "Epoch 40/100\n",
            "16/16 [==============================] - 0s 4ms/step - loss: 0.0167 - accuracy: 0.9040 - val_loss: 0.0178 - val_accuracy: 0.9000\n",
            "Epoch 41/100\n",
            "16/16 [==============================] - 0s 4ms/step - loss: 0.0165 - accuracy: 0.9040 - val_loss: 0.0175 - val_accuracy: 0.9150\n",
            "Epoch 42/100\n",
            "16/16 [==============================] - 0s 5ms/step - loss: 0.0162 - accuracy: 0.9040 - val_loss: 0.0173 - val_accuracy: 0.9100\n",
            "Epoch 43/100\n",
            "16/16 [==============================] - 0s 5ms/step - loss: 0.0160 - accuracy: 0.9070 - val_loss: 0.0171 - val_accuracy: 0.9150\n",
            "Epoch 44/100\n",
            "16/16 [==============================] - 0s 5ms/step - loss: 0.0158 - accuracy: 0.9090 - val_loss: 0.0168 - val_accuracy: 0.9150\n",
            "Epoch 45/100\n",
            "16/16 [==============================] - 0s 4ms/step - loss: 0.0156 - accuracy: 0.9120 - val_loss: 0.0166 - val_accuracy: 0.9100\n",
            "Epoch 46/100\n",
            "16/16 [==============================] - 0s 4ms/step - loss: 0.0154 - accuracy: 0.9090 - val_loss: 0.0164 - val_accuracy: 0.9150\n",
            "Epoch 47/100\n",
            "16/16 [==============================] - 0s 5ms/step - loss: 0.0152 - accuracy: 0.9090 - val_loss: 0.0162 - val_accuracy: 0.9200\n",
            "Epoch 48/100\n",
            "16/16 [==============================] - 0s 4ms/step - loss: 0.0150 - accuracy: 0.9170 - val_loss: 0.0161 - val_accuracy: 0.9150\n",
            "Epoch 49/100\n",
            "16/16 [==============================] - 0s 5ms/step - loss: 0.0148 - accuracy: 0.9160 - val_loss: 0.0159 - val_accuracy: 0.9150\n",
            "Epoch 50/100\n",
            "16/16 [==============================] - 0s 4ms/step - loss: 0.0146 - accuracy: 0.9150 - val_loss: 0.0156 - val_accuracy: 0.9150\n",
            "Epoch 51/100\n",
            "16/16 [==============================] - 0s 5ms/step - loss: 0.0145 - accuracy: 0.9170 - val_loss: 0.0155 - val_accuracy: 0.9150\n",
            "Epoch 52/100\n",
            "16/16 [==============================] - 0s 5ms/step - loss: 0.0142 - accuracy: 0.9200 - val_loss: 0.0153 - val_accuracy: 0.9150\n",
            "Epoch 53/100\n",
            "16/16 [==============================] - 0s 5ms/step - loss: 0.0141 - accuracy: 0.9180 - val_loss: 0.0152 - val_accuracy: 0.9150\n",
            "Epoch 54/100\n",
            "16/16 [==============================] - 0s 4ms/step - loss: 0.0140 - accuracy: 0.9210 - val_loss: 0.0151 - val_accuracy: 0.9150\n",
            "Epoch 55/100\n",
            "16/16 [==============================] - 0s 4ms/step - loss: 0.0138 - accuracy: 0.9240 - val_loss: 0.0149 - val_accuracy: 0.9150\n",
            "Epoch 56/100\n",
            "16/16 [==============================] - 0s 4ms/step - loss: 0.0137 - accuracy: 0.9250 - val_loss: 0.0148 - val_accuracy: 0.9150\n",
            "Epoch 57/100\n",
            "16/16 [==============================] - 0s 4ms/step - loss: 0.0135 - accuracy: 0.9270 - val_loss: 0.0146 - val_accuracy: 0.9150\n",
            "Epoch 58/100\n",
            "16/16 [==============================] - 0s 5ms/step - loss: 0.0133 - accuracy: 0.9290 - val_loss: 0.0145 - val_accuracy: 0.9150\n",
            "Epoch 59/100\n",
            "16/16 [==============================] - 0s 4ms/step - loss: 0.0132 - accuracy: 0.9290 - val_loss: 0.0144 - val_accuracy: 0.9150\n",
            "Epoch 60/100\n",
            "16/16 [==============================] - 0s 4ms/step - loss: 0.0131 - accuracy: 0.9300 - val_loss: 0.0143 - val_accuracy: 0.9150\n",
            "Epoch 61/100\n",
            "16/16 [==============================] - 0s 4ms/step - loss: 0.0130 - accuracy: 0.9290 - val_loss: 0.0142 - val_accuracy: 0.9150\n",
            "Epoch 62/100\n",
            "16/16 [==============================] - 0s 5ms/step - loss: 0.0128 - accuracy: 0.9290 - val_loss: 0.0141 - val_accuracy: 0.9200\n",
            "Epoch 63/100\n",
            "16/16 [==============================] - 0s 5ms/step - loss: 0.0127 - accuracy: 0.9310 - val_loss: 0.0140 - val_accuracy: 0.9100\n",
            "Epoch 64/100\n",
            "16/16 [==============================] - 0s 5ms/step - loss: 0.0126 - accuracy: 0.9280 - val_loss: 0.0139 - val_accuracy: 0.9150\n",
            "Epoch 65/100\n",
            "16/16 [==============================] - 0s 5ms/step - loss: 0.0124 - accuracy: 0.9310 - val_loss: 0.0138 - val_accuracy: 0.9150\n",
            "Epoch 66/100\n",
            "16/16 [==============================] - 0s 4ms/step - loss: 0.0124 - accuracy: 0.9290 - val_loss: 0.0138 - val_accuracy: 0.9200\n",
            "Epoch 67/100\n",
            "16/16 [==============================] - 0s 4ms/step - loss: 0.0123 - accuracy: 0.9280 - val_loss: 0.0137 - val_accuracy: 0.9150\n",
            "Epoch 68/100\n",
            "16/16 [==============================] - 0s 5ms/step - loss: 0.0121 - accuracy: 0.9310 - val_loss: 0.0136 - val_accuracy: 0.9150\n",
            "Epoch 69/100\n",
            "16/16 [==============================] - 0s 5ms/step - loss: 0.0120 - accuracy: 0.9290 - val_loss: 0.0136 - val_accuracy: 0.9100\n",
            "Epoch 70/100\n",
            "16/16 [==============================] - 0s 4ms/step - loss: 0.0119 - accuracy: 0.9290 - val_loss: 0.0134 - val_accuracy: 0.9150\n",
            "Epoch 71/100\n",
            "16/16 [==============================] - 0s 4ms/step - loss: 0.0118 - accuracy: 0.9310 - val_loss: 0.0134 - val_accuracy: 0.9150\n",
            "Epoch 72/100\n",
            "16/16 [==============================] - 0s 5ms/step - loss: 0.0117 - accuracy: 0.9310 - val_loss: 0.0134 - val_accuracy: 0.9200\n",
            "Epoch 73/100\n",
            "16/16 [==============================] - 0s 5ms/step - loss: 0.0115 - accuracy: 0.9330 - val_loss: 0.0133 - val_accuracy: 0.9100\n",
            "Epoch 74/100\n",
            "16/16 [==============================] - 0s 5ms/step - loss: 0.0115 - accuracy: 0.9360 - val_loss: 0.0132 - val_accuracy: 0.9150\n",
            "Epoch 75/100\n",
            "16/16 [==============================] - 0s 4ms/step - loss: 0.0114 - accuracy: 0.9350 - val_loss: 0.0132 - val_accuracy: 0.9150\n",
            "Epoch 76/100\n",
            "16/16 [==============================] - 0s 4ms/step - loss: 0.0113 - accuracy: 0.9340 - val_loss: 0.0132 - val_accuracy: 0.9150\n",
            "Epoch 77/100\n",
            "16/16 [==============================] - 0s 5ms/step - loss: 0.0112 - accuracy: 0.9330 - val_loss: 0.0131 - val_accuracy: 0.9200\n",
            "Epoch 78/100\n",
            "16/16 [==============================] - 0s 5ms/step - loss: 0.0112 - accuracy: 0.9400 - val_loss: 0.0130 - val_accuracy: 0.9150\n",
            "Epoch 79/100\n",
            "16/16 [==============================] - 0s 5ms/step - loss: 0.0111 - accuracy: 0.9390 - val_loss: 0.0130 - val_accuracy: 0.9200\n",
            "Epoch 80/100\n",
            "16/16 [==============================] - 0s 5ms/step - loss: 0.0110 - accuracy: 0.9370 - val_loss: 0.0131 - val_accuracy: 0.9150\n",
            "Epoch 81/100\n",
            "16/16 [==============================] - 0s 5ms/step - loss: 0.0108 - accuracy: 0.9410 - val_loss: 0.0130 - val_accuracy: 0.9250\n",
            "Epoch 82/100\n",
            "16/16 [==============================] - 0s 5ms/step - loss: 0.0108 - accuracy: 0.9390 - val_loss: 0.0129 - val_accuracy: 0.9200\n",
            "Epoch 83/100\n",
            "16/16 [==============================] - 0s 5ms/step - loss: 0.0107 - accuracy: 0.9410 - val_loss: 0.0129 - val_accuracy: 0.9200\n",
            "Epoch 84/100\n",
            "16/16 [==============================] - 0s 5ms/step - loss: 0.0106 - accuracy: 0.9410 - val_loss: 0.0129 - val_accuracy: 0.9200\n",
            "Epoch 85/100\n",
            "16/16 [==============================] - 0s 4ms/step - loss: 0.0105 - accuracy: 0.9420 - val_loss: 0.0130 - val_accuracy: 0.9250\n",
            "Epoch 86/100\n",
            "16/16 [==============================] - 0s 5ms/step - loss: 0.0104 - accuracy: 0.9430 - val_loss: 0.0128 - val_accuracy: 0.9250\n",
            "Epoch 87/100\n",
            "16/16 [==============================] - 0s 5ms/step - loss: 0.0104 - accuracy: 0.9420 - val_loss: 0.0128 - val_accuracy: 0.9200\n",
            "Epoch 88/100\n",
            "16/16 [==============================] - 0s 4ms/step - loss: 0.0103 - accuracy: 0.9390 - val_loss: 0.0128 - val_accuracy: 0.9200\n",
            "Epoch 89/100\n",
            "16/16 [==============================] - 0s 5ms/step - loss: 0.0102 - accuracy: 0.9430 - val_loss: 0.0127 - val_accuracy: 0.9250\n",
            "Epoch 90/100\n",
            "16/16 [==============================] - 0s 4ms/step - loss: 0.0102 - accuracy: 0.9430 - val_loss: 0.0127 - val_accuracy: 0.9200\n",
            "Epoch 91/100\n",
            "16/16 [==============================] - 0s 4ms/step - loss: 0.0101 - accuracy: 0.9410 - val_loss: 0.0127 - val_accuracy: 0.9150\n",
            "Epoch 92/100\n",
            "16/16 [==============================] - 0s 5ms/step - loss: 0.0100 - accuracy: 0.9430 - val_loss: 0.0126 - val_accuracy: 0.9250\n",
            "Epoch 93/100\n",
            "16/16 [==============================] - 0s 4ms/step - loss: 0.0100 - accuracy: 0.9460 - val_loss: 0.0127 - val_accuracy: 0.9150\n",
            "Epoch 94/100\n",
            "16/16 [==============================] - 0s 4ms/step - loss: 0.0099 - accuracy: 0.9420 - val_loss: 0.0127 - val_accuracy: 0.9200\n",
            "Epoch 95/100\n",
            "16/16 [==============================] - 0s 5ms/step - loss: 0.0098 - accuracy: 0.9450 - val_loss: 0.0126 - val_accuracy: 0.9200\n",
            "Epoch 96/100\n",
            "16/16 [==============================] - 0s 4ms/step - loss: 0.0097 - accuracy: 0.9460 - val_loss: 0.0126 - val_accuracy: 0.9200\n",
            "Epoch 97/100\n",
            "16/16 [==============================] - 0s 5ms/step - loss: 0.0097 - accuracy: 0.9460 - val_loss: 0.0125 - val_accuracy: 0.9200\n",
            "Epoch 98/100\n",
            "16/16 [==============================] - 0s 5ms/step - loss: 0.0096 - accuracy: 0.9450 - val_loss: 0.0126 - val_accuracy: 0.9200\n",
            "Epoch 99/100\n",
            "16/16 [==============================] - 0s 4ms/step - loss: 0.0096 - accuracy: 0.9470 - val_loss: 0.0126 - val_accuracy: 0.9150\n",
            "Epoch 100/100\n",
            "16/16 [==============================] - 0s 5ms/step - loss: 0.0095 - accuracy: 0.9480 - val_loss: 0.0126 - val_accuracy: 0.9200\n"
          ]
        }
      ],
      "source": [
        "MLP_model = model.fit(x_train, y_train,\n",
        "          epochs=100,\n",
        "          batch_size=64, validation_data=(x_test, y_test))"
      ]
    },
    {
      "cell_type": "code",
      "execution_count": 20,
      "metadata": {
        "colab": {
          "base_uri": "https://localhost:8080/",
          "height": 448
        },
        "id": "SveCNiLkisTF",
        "outputId": "73f5ab68-3e43-4cb1-db09-f9987df35f02"
      },
      "outputs": [
        {
          "output_type": "execute_result",
          "data": {
            "text/plain": [
              "[<matplotlib.lines.Line2D at 0x7dbf69bdaf50>]"
            ]
          },
          "metadata": {},
          "execution_count": 20
        },
        {
          "output_type": "display_data",
          "data": {
            "text/plain": [
              "<Figure size 640x480 with 1 Axes>"
            ],
            "image/png": "[encoded data removed]"
          },
          "metadata": {}
        }
      ],
      "source": [
        "# plot Loss\n",
        "plt.plot(MLP_model.history[\"loss\"])\n",
        "plt.plot(MLP_model.history[\"val_loss\"])"
      ]
    },
    {
      "cell_type": "code",
      "execution_count": 21,
      "metadata": {
        "colab": {
          "base_uri": "https://localhost:8080/",
          "height": 448
        },
        "id": "Cx3VubunisVh",
        "outputId": "0f0c89a7-aa5b-4446-ae82-1609233e7151"
      },
      "outputs": [
        {
          "output_type": "execute_result",
          "data": {
            "text/plain": [
              "[<matplotlib.lines.Line2D at 0x7dbf69a64730>]"
            ]
          },
          "metadata": {},
          "execution_count": 21
        },
        {
          "output_type": "display_data",
          "data": {
            "text/plain": [
              "<Figure size 640x480 with 1 Axes>"
            ],
            "image/png": "[encoded data removed]"
          },
          "metadata": {}
        }
      ],
      "source": [
        "# plot accuracy\n",
        "plt.plot(MLP_model.history[\"accuracy\"])\n",
        "plt.plot(MLP_model.history[\"val_accuracy\"])"
      ]
    }
  ],
  "metadata": {
    "colab": {
      "provenance": []
    },
    "kernelspec": {
      "display_name": "Python 3",
      "name": "python3"
    },
    "language_info": {
      "name": "python"
    }
  },
  "nbformat": 4,
  "nbformat_minor": 0
}
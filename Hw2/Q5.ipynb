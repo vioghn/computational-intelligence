{
  "nbformat": 4,
  "nbformat_minor": 0,
  "metadata": {
    "colab": {
      "provenance": []
    },
    "kernelspec": {
      "name": "python3",
      "display_name": "Python 3"
    },
    "language_info": {
      "name": "python"
    }
  },
  "cells": [
    {
      "cell_type": "markdown",
      "source": [
        "# Q5"
      ],
      "metadata": {
        "id": "uVICzXcGvNvO"
      }
    },
    {
      "cell_type": "markdown",
      "source": [
        "## import libraries"
      ],
      "metadata": {
        "id": "sk3D9cKHvsqn"
      }
    },
    {
      "cell_type": "code",
      "source": [
        "import numpy as np\n",
        "import matplotlib.pyplot as plt"
      ],
      "metadata": {
        "id": "UodQ8VKOvNDR"
      },
      "execution_count": 20,
      "outputs": []
    },
    {
      "cell_type": "markdown",
      "source": [
        "## Xnor"
      ],
      "metadata": {
        "id": "px-J22ZVvz9-"
      }
    },
    {
      "cell_type": "code",
      "source": [
        "#dataset and label\n",
        "x = np.array([[0, 0], [0, 1], [1, 0], [1, 1]])\n",
        "y =np.array([1, 0, 0, 1])"
      ],
      "metadata": {
        "id": "MXEEMangwElv"
      },
      "execution_count": 21,
      "outputs": []
    },
    {
      "cell_type": "code",
      "source": [
        "colors = ['red' if label == 1 else 'blue' for label in y]\n",
        "plt.scatter(x[:, 0], x[:, 1] , c=colors)\n",
        "plt.xlabel('x')\n",
        "plt.ylabel('y')\n"
      ],
      "metadata": {
        "colab": {
          "base_uri": "https://localhost:8080/",
          "height": 467
        },
        "id": "6UG59dWDwUfb",
        "outputId": "bd44b393-7be0-4552-d1b6-dd54f3cbfce8"
      },
      "execution_count": 22,
      "outputs": [
        {
          "output_type": "execute_result",
          "data": {
            "text/plain": [
              "Text(0, 0.5, 'y')"
            ]
          },
          "metadata": {},
          "execution_count": 22
        },
        {
          "output_type": "display_data",
          "data": {
            "text/plain": [
              "<Figure size 640x480 with 1 Axes>"
            ],
            "image/png": "[encoded data removed]"
          },
          "metadata": {}
        }
      ]
    },
    {
      "cell_type": "markdown",
      "source": [
        "## Perceptron Model"
      ],
      "metadata": {
        "id": "BZYsoVs9yhFb"
      }
    },
    {
      "cell_type": "code",
      "source": [
        "#(a and b) or nor(a , b) = output\n",
        "\n",
        "def step_func(z):\n",
        "    return 1 if (z > 0) else 0\n",
        "\n",
        "def loss(result, x):\n",
        "    return result - x\n",
        "\n",
        "class MLP:\n",
        "    def __init__(self, epochs, learning_rate):\n",
        "        self.learning_rate = learning_rate\n",
        "        self.epochs = epochs\n",
        "        self.weights = np.random.randn(3)\n",
        "\n",
        "    def forward(self, x1, x2):\n",
        "        # First node: AND\n",
        "        self.and_node = step_func(self.weights[0] + self.weights[1]*x1 + self.weights[2]*x2)\n",
        "        # Second node: NOR\n",
        "        self.nor_node = step_func(self.weights[0] + self.weights[1]*(1-x1) + self.weights[2]*(1-x2))\n",
        "        # Final node: OR\n",
        "        self.output = step_func(self.weights[0] + self.weights[1]*self.and_node + self.weights[2]*self.nor_node)\n",
        "        return self.output\n",
        "\n",
        "    def update(self, x1, x2, result):\n",
        "        # Calculate loss\n",
        "        current_loss = loss(result, self.output)\n",
        "        # Update weights\n",
        "        self.weights[0] += self.learning_rate * current_loss\n",
        "        self.weights[1] += self.learning_rate * current_loss * self.and_node\n",
        "        self.weights[2] += self.learning_rate * current_loss *  self.nor_node\n",
        "\n",
        "\n",
        "    def train(self, x_train, y_labels):\n",
        "        for epoch in range(self.epochs):\n",
        "            i = 0\n",
        "            for data in x_train:\n",
        "                x1 = data[0]\n",
        "                x2 = data[1]\n",
        "                result = y_labels[i]\n",
        "                self.forward(x1, x2)\n",
        "                self.update(x1, x2, result)\n",
        "                i += 1\n",
        "\n",
        "\n",
        "    def predict(self, x1, x2):\n",
        "        return self.forward(x1, x2)\n",
        "\n",
        "# Initialize MLP and train it\n",
        "mlp = MLP(150, 0.1)\n",
        "mlp.train(x, y)\n",
        "\n",
        "# Print final weights\n",
        "print(\"Final Weights:\")\n",
        "print(mlp.weights)\n",
        "\n",
        "i = 0\n",
        "for data in x:\n",
        "\n",
        "    x1 = data[0]\n",
        "    x2 = data[1]\n",
        "    prediction = mlp.predict(x1, x2)\n",
        "    print(f\"Input: ({x1}, {x2}), Label: {y[i]}, Prediction: {prediction}\")\n",
        "    i+=1"
      ],
      "metadata": {
        "colab": {
          "base_uri": "https://localhost:8080/"
        },
        "id": "DU1dp4RjylqU",
        "outputId": "a190ef58-7736-4af6-be7f-40087c924d3b"
      },
      "execution_count": 44,
      "outputs": [
        {
          "output_type": "stream",
          "name": "stdout",
          "text": [
            "Final Weights:\n",
            "[ 0.08711273 -0.04193251 -0.04792214]\n",
            "Input: (0, 0), Label: 1, Prediction: 1\n",
            "Input: (0, 1), Label: 0, Prediction: 0\n",
            "Input: (1, 0), Label: 0, Prediction: 0\n",
            "Input: (1, 1), Label: 1, Prediction: 1\n"
          ]
        }
      ]
    }
  ]
}
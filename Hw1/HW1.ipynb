{
  "cells": [
    {
      "cell_type": "code",
      "execution_count": 2,
      "metadata": {
        "id": "hvZf63YDRgTp"
      },
      "outputs": [],
      "source": [
        "import numpy as np"
      ]
    },
    {
      "cell_type": "markdown",
      "metadata": {
        "id": "GRDDjSBpRgTr"
      },
      "source": [
        "# Q1"
      ]
    },
    {
      "cell_type": "code",
      "execution_count": 3,
      "metadata": {
        "id": "8EMg923xRgTs"
      },
      "outputs": [],
      "source": [
        "def element_wise_comparison(array1, array2):\n",
        "    \"\"\"\n",
        "    Perform element-wise comparisons between two NumPy arrays.\n",
        "\n",
        "    Parameters:\n",
        "    - array1 (numpy.ndarray): First input NumPy array.\n",
        "    - array2 (numpy.ndarray): Second input NumPy array.\n",
        "\n",
        "    Returns:\n",
        "    - tuple: A tuple of NumPy arrays containing the following element-wise comparison results:\n",
        "        - greater_result (numpy.ndarray): Element-wise greater than comparison.\n",
        "        - greater_equal_result (numpy.ndarray): Element-wise greater than or equal to comparison.\n",
        "        - less_result (numpy.ndarray): Element-wise less than comparison.\n",
        "        - less_equal_result (numpy.ndarray): Element-wise less than or equal to comparison.\n",
        "    \"\"\"\n",
        "    ## From https://note.nkmk.me/en/python-numpy-ndarray-compare/#:~:text=In%20NumPy%2C%20you%20can%20compare,Functions%20such%20as%20np.\n",
        "    # ------------\n",
        "    # FILL THIS IN\n",
        "    greater_result = array1 >array2\n",
        "    greater_equal_result = array1 >= array2\n",
        "    less_result = array1 < array2\n",
        "    less_equal_result = array1 <= array2\n",
        "\n",
        "    # ------------\n",
        "\n",
        "    return greater_result, greater_equal_result, less_result, less_equal_result"
      ]
    },
    {
      "cell_type": "code",
      "execution_count": 4,
      "metadata": {
        "colab": {
          "base_uri": "https://localhost:8080/"
        },
        "id": "My1EQKinRgTs",
        "outputId": "0839708f-478a-4332-9785-6f400518fc59"
      },
      "outputs": [
        {
          "output_type": "stream",
          "name": "stdout",
          "text": [
            "Greater than:\n",
            "[[False False]\n",
            " [ True  True]]\n",
            "\n",
            "Greater than or equal to:\n",
            "[[ True  True]\n",
            " [ True  True]]\n",
            "\n",
            "Less than:\n",
            "[[False False]\n",
            " [False False]]\n",
            "\n",
            "Less than or equal to:\n",
            "[[ True  True]\n",
            " [False False]]\n"
          ]
        }
      ],
      "source": [
        "array1 = np.array([[1, 2], [3, 4]])\n",
        "array2 = np.array([[1, 2], [2, 3]])\n",
        "greater, greater_equal, less, less_equal = element_wise_comparison(array1, array2)\n",
        "\n",
        "print(\"Greater than:\")\n",
        "print(greater)\n",
        "print(\"\\nGreater than or equal to:\")\n",
        "print(greater_equal)\n",
        "print(\"\\nLess than:\")\n",
        "print(less)\n",
        "print(\"\\nLess than or equal to:\")\n",
        "print(less_equal)"
      ]
    },
    {
      "cell_type": "markdown",
      "metadata": {
        "id": "mdS5UpeWRgTt"
      },
      "source": [
        "# Q2"
      ]
    },
    {
      "cell_type": "code",
      "execution_count": 5,
      "metadata": {
        "id": "Jxg6AqqmRgTt"
      },
      "outputs": [],
      "source": [
        "def array_multiply(array1, array2, method=\"element-wise\"):\n",
        "    \"\"\"\n",
        "    Perform multiplication between two NumPy arrays using the specified method.\n",
        "\n",
        "    Parameters:\n",
        "    - array1 (numpy.ndarray): First input NumPy array.\n",
        "    - array2 (numpy.ndarray): Second input NumPy array.\n",
        "    - method (str, optional): The multiplication method to use. Defaults to \"element-wise\".\n",
        "\n",
        "    Returns:\n",
        "    - numpy.ndarray: The result of the multiplication operation based on the chosen method.\n",
        "    \"\"\"\n",
        "    # ------------\n",
        "    # From https://www.educative.io/blog/numpy-matrix-multiplication\n",
        "    # FILL THIS IN\n",
        "    if method == \"element-wise\":\n",
        "      result = np.multiply(array1 , array2)\n",
        "    elif method == \"matrix-multiply\":\n",
        "      result = np.matmul(array1, array2)\n",
        "    else:\n",
        "     result = np.dot(array1 , array2)\n",
        "    # ------------\n",
        "\n",
        "    return result"
      ]
    },
    {
      "cell_type": "code",
      "execution_count": 6,
      "metadata": {
        "colab": {
          "base_uri": "https://localhost:8080/"
        },
        "id": "pNZ3JkLMRgTt",
        "outputId": "9ab481d6-00f9-48a4-a99e-9123774d656a"
      },
      "outputs": [
        {
          "output_type": "stream",
          "name": "stdout",
          "text": [
            "Element-wise multiplication:\n",
            "[[2 0]\n",
            " [3 8]]\n",
            "\n",
            "Matrix multiplication:\n",
            "[[ 4  4]\n",
            " [10  8]]\n"
          ]
        }
      ],
      "source": [
        "array1 = np.array([[1, 2], [3, 4]])\n",
        "array2 = np.array([[2, 0], [1, 2]])\n",
        "\n",
        "# Perform element-wise multiplication\n",
        "element_wise_result = array_multiply(array1, array2, method=\"element-wise\")\n",
        "print(\"Element-wise multiplication:\")\n",
        "print(element_wise_result)\n",
        "\n",
        "# Perform matrix multiplication\n",
        "matrix_multiply_result = array_multiply(array1, array2, method=\"matrix-multiply\")\n",
        "print(\"\\nMatrix multiplication:\")\n",
        "print(matrix_multiply_result)\n"
      ]
    },
    {
      "cell_type": "markdown",
      "metadata": {
        "id": "x1G7fKkzRgTu"
      },
      "source": [
        "# Q3"
      ]
    },
    {
      "cell_type": "code",
      "execution_count": 7,
      "metadata": {
        "id": "K1x2sKLsRgTu"
      },
      "outputs": [],
      "source": [
        "def broadcast_add(p, q, method=\"row-wise\"):\n",
        "    \"\"\"\n",
        "    Perform addition between two NumPy arrays using broadcasting and the specified method.\n",
        "\n",
        "    Parameters:\n",
        "    - p (numpy.ndarray): First input NumPy array.\n",
        "    - q (numpy.ndarray): Second input NumPy array.\n",
        "    - method (str, optional): The addition method to use. Defaults to \"row-wise\".\n",
        "        - \"row-wise\": Perform row-wise addition, broadcasting q to match the number of rows in p.\n",
        "        - \"column-wise\": Perform column-wise addition, adding q to each column of p.\n",
        "\n",
        "    Returns:\n",
        "    - numpy.ndarray: The result of the addition operation based on the chosen method.\n",
        "\n",
        "    Raises:\n",
        "    - ValueError: If an invalid method is provided or if the shapes are incompatible for the chosen method.\n",
        "    \"\"\"\n",
        "    #https://numpy.org/doc/stable/reference/generated/numpy.broadcast_to.html#numpy.broadcast_to\n",
        "    #https://numpy.org/doc/stable/reference/generated/numpy.vstack.html\n",
        "    # ------------\n",
        "    # FILL THIS IN\n",
        "    print(p.shape , q.shape)\n",
        "\n",
        "    if  p.shape[1] != p.shape[0] or p.shape[0] != q.shape[0] or len(q.shape) > 1:\n",
        "        raise ValueError(\n",
        "            \"shapes are incompatible for the chosen method\")\n",
        "\n",
        "\n",
        "    if method == \"row-wise\":\n",
        "        result = p + np.broadcast_to(q, p.shape)\n",
        "    elif method == \"column-wise\":\n",
        "        result = p + np.broadcast_to(np.vstack(q), p.shape)\n",
        "\n",
        "    return result\n",
        ""
      ]
    },
    {
      "cell_type": "code",
      "execution_count": 8,
      "metadata": {
        "id": "44YmGejERgTu",
        "colab": {
          "base_uri": "https://localhost:8080/"
        },
        "outputId": "01c9e97d-0bca-4dcf-9580-7d25a9d89557"
      },
      "outputs": [
        {
          "output_type": "stream",
          "name": "stdout",
          "text": [
            "(3, 3) (3,)\n",
            "Row-wise addition:\n",
            "[[11 22 33]\n",
            " [14 25 36]\n",
            " [17 28 39]]\n",
            "(3, 3) (3,)\n",
            "\n",
            "Column-wise addition:\n",
            "[[11 12 13]\n",
            " [24 25 26]\n",
            " [37 38 39]]\n"
          ]
        }
      ],
      "source": [
        "# Example usage with different-shaped arrays\n",
        "p = np.array([[1, 2, 3], [4, 5, 6], [7, 8, 9]])\n",
        "q = np.array([10, 20, 30])\n",
        "\n",
        "# Add q row-wise to p\n",
        "row_wise_result = broadcast_add(p, q, method=\"row-wise\")\n",
        "print(\"Row-wise addition:\")\n",
        "print(row_wise_result)\n",
        "\n",
        "# Add q column-wise to p\n",
        "column_wise_result = broadcast_add(p, q, method=\"column-wise\")\n",
        "print(\"\\nColumn-wise addition:\")\n",
        "print(column_wise_result)"
      ]
    },
    {
      "cell_type": "markdown",
      "metadata": {
        "id": "xpTTvCKSRgTv"
      },
      "source": [
        "# Q4"
      ]
    },
    {
      "cell_type": "code",
      "execution_count": 9,
      "metadata": {
        "id": "6wV29jiFRgTv",
        "colab": {
          "base_uri": "https://localhost:8080/"
        },
        "outputId": "fef1397e-36d1-4d38-e759-681d8b331e57"
      },
      "outputs": [
        {
          "output_type": "stream",
          "name": "stdout",
          "text": [
            "Original Array:\n",
            "[[1 8 5 1]\n",
            " [4 5 7 3]\n",
            " [4 7 5 5]\n",
            " [4 2 1 5]]\n",
            "After normalization:\n",
            "[[0.         1.         0.57142857 0.        ]\n",
            " [0.42857143 0.57142857 0.85714286 0.28571429]\n",
            " [0.42857143 0.85714286 0.57142857 0.57142857]\n",
            " [0.42857143 0.14285714 0.         0.57142857]]\n"
          ]
        }
      ],
      "source": [
        "# Initialize the random matrix\n",
        "x = np.random.randint(1, 11, (4, 4))\n",
        "\n",
        "print(\"Original Array:\")\n",
        "print(x)\n",
        "# Do the normalization\n",
        "#From https://www.wallstreetmojo.com/normalization-formula/\n",
        "min_val = np.min(x)\n",
        "max_val = np.max(x)\n",
        "x = (x - min_val) / (max_val - min_val)\n",
        "print(\"After normalization:\")\n",
        "print(x)"
      ]
    },
    {
      "cell_type": "markdown",
      "metadata": {
        "id": "otWoHDg9RgTv"
      },
      "source": [
        "# Q5"
      ]
    },
    {
      "cell_type": "code",
      "execution_count": 10,
      "metadata": {
        "id": "Qos9fy7fRgTv",
        "colab": {
          "base_uri": "https://localhost:8080/",
          "height": 990
        },
        "outputId": "e3ed6085-7442-43af-abb6-d3a5d69f4972"
      },
      "outputs": [
        {
          "output_type": "display_data",
          "data": {
            "text/plain": [
              "<Figure size 640x480 with 1 Axes>"
            ],
            "image/png": "[encoded data removed]"
          },
          "metadata": {}
        },
        {
          "output_type": "display_data",
          "data": {
            "text/plain": [
              "<Figure size 640x480 with 1 Axes>"
            ],
            "image/png": "[encoded data removed]"
          },
          "metadata": {}
        },
        {
          "output_type": "stream",
          "name": "stdout",
          "text": [
            "The mean daily return is 0.0005548260008486608\n",
            "The standard deviation of the daily returns is 0.009442945103460247\n",
            "The maximum daily return was 0.02878633838810639 on 312\n",
            "The minimum daily return was -0.028963574613605738 on 105\n",
            "The maximum price was 124.6180108 on 332\n",
            "The minimum price was 82.96821012 on 105\n"
          ]
        }
      ],
      "source": [
        "import matplotlib.pyplot as plt\n",
        "import pandas as pd\n",
        "#Used Pandas dataframe documentation\n",
        "# Import data\n",
        "data = pd.read_csv(\"data.csv\")\n",
        "\n",
        "#part1\n",
        "returns = data[\"Closing Price\"].diff() / data[\"Closing Price\"].shift(1)\n",
        "\n",
        "#part2\n",
        "mean_return = np.mean(returns)\n",
        "#part 3\n",
        "std_return = np.std(returns)\n",
        "\n",
        "#part4\n",
        "plt.plot(data[\"Date\"], data[\"Closing Price\"])\n",
        "plt.xlabel(\"Date\")\n",
        "plt.ylabel(\"Closing price\")\n",
        "plt.show()\n",
        "\n",
        "#port5\n",
        "plt.plot(data[\"Date\"], returns)\n",
        "plt.xlabel(\"Date\")\n",
        "plt.ylabel(\"Daily return\")\n",
        "plt.show()\n",
        "\n",
        "#part 6\n",
        "max_return = returns.max()\n",
        "min_return = returns.min()\n",
        "max_return_date = returns.idxmax()\n",
        "min_return_date = returns.idxmin()\n",
        "\n",
        "#part6 7\n",
        "max_price = data[\"Closing Price\"].max()\n",
        "min_price = data[\"Closing Price\"].min()\n",
        "max_price_date = data[\"Closing Price\"].idxmax()\n",
        "min_price_date = data[\"Closing Price\"].idxmin()\n",
        "\n",
        "print(\"The mean daily return is\", mean_return)\n",
        "print(\"The standard deviation of the daily returns is\", std_return)\n",
        "print(\"The maximum daily return was\", max_return, \"on\", max_return_date)\n",
        "print(\"The minimum daily return was\", min_return, \"on\", min_return_date)\n",
        "print(\"The maximum price was\", max_price, \"on\", max_price_date)\n",
        "print(\"The minimum price was\", min_price, \"on\", min_price_date)\n",
        "\n",
        "# You should write your code here and print or plot the required data asked in homework documentation"
      ]
    },
    {
      "cell_type": "markdown",
      "metadata": {
        "id": "TieaTPccRgTv"
      },
      "source": [
        "# Q6"
      ]
    },
    {
      "cell_type": "code",
      "execution_count": 11,
      "metadata": {
        "id": "6ogq268RRgTv"
      },
      "outputs": [],
      "source": [
        "def for_loop_feed_forward(X, w):\n",
        "    \"\"\"\n",
        "    Perform a feed-forward operation using a for loop.\n",
        "\n",
        "    Parameters:\n",
        "    - X (numpy.ndarray): Input data matrix of shape (num_samples, num_features).\n",
        "    - w (numpy.ndarray): Weight matrix of shape (num_features, 1).\n",
        "\n",
        "    Returns:\n",
        "    - numpy.ndarray: Output matrix of shape (num_samples, 1).\n",
        "    \"\"\"\n",
        "    num_samples, num_features = X.shape\n",
        "    outputs = np.zeros((num_samples, 1))\n",
        "\n",
        "    for i in range(num_samples):\n",
        "        for j in range(num_features):\n",
        "            outputs[i, 0] += X[i, j] * w[j, 0]\n",
        "\n",
        "    return outputs\n",
        "\n",
        "def vectorized_feed_forward(X, w):\n",
        "    \"\"\"\n",
        "    Perform a feed-forward operation using vectorization.\n",
        "\n",
        "    Parameters:\n",
        "    - X (numpy.ndarray): Input data matrix of shape (num_samples, num_features).\n",
        "    - w (numpy.ndarray): Weight matrix of shape (num_features, 1).\n",
        "\n",
        "    Returns:\n",
        "    - numpy.ndarray: Output matrix of shape (num_samples, 1).\n",
        "    \"\"\"\n",
        "    outputs = np.dot(X, w)\n",
        "\n",
        "    return outputs"
      ]
    },
    {
      "cell_type": "code",
      "execution_count": 12,
      "metadata": {
        "id": "uhOv3BbNRgTv",
        "colab": {
          "base_uri": "https://localhost:8080/"
        },
        "outputId": "f819b5b7-3c10-4be0-94ab-8b4ed6cd1435"
      },
      "outputs": [
        {
          "output_type": "stream",
          "name": "stdout",
          "text": [
            "Time spent on calculating the outputs using for loops: \n",
            "0.36760544776916504\n",
            "Time spent on calculating the outputs using vectorization: \n",
            "0.0020046234130859375\n"
          ]
        }
      ],
      "source": [
        "import time\n",
        "\n",
        "# generate random samples\n",
        "\n",
        "\n",
        "X = np.random.rand(1000, 500)\n",
        "w = np.random.rand(500, 1)\n",
        "\n",
        "start_time = time.time()\n",
        "outputs = for_loop_feed_forward(X, w)\n",
        "\n",
        "print(\"Time spent on calculating the outputs using for loops: \")\n",
        "print(time.time() - start_time)\n",
        "\n",
        "start_time = time.time()\n",
        "outputs = vectorized_feed_forward(X, w)\n",
        "print(\"Time spent on calculating the outputs using vectorization: \")\n",
        "print(time.time() - start_time)"
      ]
    },
    {
      "cell_type": "markdown",
      "metadata": {
        "id": "7KsPnxPlRgTv"
      },
      "source": [
        "# Q7"
      ]
    },
    {
      "cell_type": "code",
      "execution_count": 13,
      "metadata": {
        "id": "Xyjp4hE5RgTv"
      },
      "outputs": [],
      "source": [
        "def replace_elements_above_threshold(array, threshold):\n",
        "    \"\"\"\n",
        "    Replace elements in a NumPy array that are higher than the given threshold with a specified value.\n",
        "\n",
        "    Parameters:\n",
        "    - array (numpy.ndarray): Input NumPy array.\n",
        "    - threshold (float): Threshold value to compare elements with.\n",
        "\n",
        "    Returns:\n",
        "    - numpy.ndarray: NumPy array with elements replaced above the threshold.\n",
        "    \"\"\"\n",
        "    #From https://numpy.org/doc/stable/reference/generated/numpy.where.html\n",
        "    modified_arr = np.where(array > threshold, 1, 0)\n",
        "    return modified_arr"
      ]
    },
    {
      "cell_type": "code",
      "execution_count": 14,
      "metadata": {
        "id": "JLAkafM6RgTv",
        "colab": {
          "base_uri": "https://localhost:8080/"
        },
        "outputId": "04dfb81f-08bc-4d54-df36-98d7267369e7"
      },
      "outputs": [
        {
          "output_type": "stream",
          "name": "stdout",
          "text": [
            "[[0 0 0]\n",
            " [0 0 1]\n",
            " [1 1 1]]\n"
          ]
        }
      ],
      "source": [
        "input_array = np.array([[1, 2, 3], [4, 5, 6], [7, 8, 9]])\n",
        "threshold_value = 5\n",
        "result_array = replace_elements_above_threshold(input_array, threshold_value)\n",
        "print(result_array)"
      ]
    },
    {
      "cell_type": "markdown",
      "metadata": {
        "id": "3_LLmkamRgTv"
      },
      "source": [
        "# Q8"
      ]
    },
    {
      "cell_type": "code",
      "execution_count": 15,
      "metadata": {
        "id": "xraKpwDzRgTv"
      },
      "outputs": [],
      "source": [
        "import copy\n",
        "class Matrix:\n",
        "    def __init__(self, my_matrix):\n",
        "        \"\"\"\n",
        "        Initialize a Matrix object with a given list of lists.\n",
        "\n",
        "        Parameters:\n",
        "        - matrix (list of lists): Input list of lists representing the matrix.\n",
        "        \"\"\"\n",
        "        # ------------\n",
        "        self.matrix = my_matrix\n",
        "        # ------------\n",
        "\n",
        "    def is_equal(self, second_matrix):\n",
        "        \"\"\"\n",
        "        Check if this Matrix object is equal to another Matrix object.\n",
        "\n",
        "        Parameters:\n",
        "        - second_matrix (Matrix): Another Matrix object for comparison.\n",
        "\n",
        "        Returns:\n",
        "        - bool: True if the matrices are equal, False otherwise.\n",
        "        \"\"\"\n",
        "        # ------------\n",
        "        # FILL THIS IN\n",
        "\n",
        "        m  = len(self.matrix)\n",
        "        n = len(self.matrix[0])\n",
        "        if len(self.matrix) != len(second_matrix.matrix) or len(self.matrix[0]) != len(second_matrix.matrix[0]):\n",
        "          return False\n",
        "        else:\n",
        "          for i in range(m):\n",
        "            for j in range(n):\n",
        "                if self.matrix[i][j] != second_matrix.matrix[i][j]:\n",
        "                  return False\n",
        "\n",
        "        return True\n",
        "\n",
        "    def is_higher_elementwise(self, second_matrix):\n",
        "        \"\"\"\n",
        "        Check if this Matrix object has higher values element-wise compared to another Matrix object.\n",
        "\n",
        "        Parameters:\n",
        "        - second_matrix (Matrix): Another Matrix object for comparison.\n",
        "\n",
        "        Returns:\n",
        "        - Matrix: Matrix same shape of the input.\n",
        "        \"\"\"\n",
        "        output =  copy.deepcopy(self.matrix)\n",
        "        m = len(self.matrix)\n",
        "        n= len(self.matrix[0])\n",
        "        for i in range(m):\n",
        "          for j in range(n):\n",
        "            if(self.matrix[i][j]  > second_matrix.matrix[i][j]):\n",
        "              output[i][j] = True\n",
        "            else:\n",
        "              output[i][j] = False\n",
        "        return Matrix(output)\n",
        "\n",
        "    def is_subset(self, second_matrix):\n",
        "        \"\"\"\n",
        "        Check if this Matrix object is a subset of another Matrix object.\n",
        "\n",
        "        Parameters:\n",
        "        - second_matrix (Matrix): Another Matrix object for comparison.\n",
        "\n",
        "        Returns:\n",
        "        - bool: True if this matrix is a subset of 'second_matrix', False otherwise.\n",
        "        \"\"\"\n",
        "        m = len(self.matrix)\n",
        "        n = len(self.matrix[0])\n",
        "        activate = False\n",
        "        #check the legth of matrixes\n",
        "        if m > len(second_matrix.matrix) or n > len(second_matrix.matrix[0]):\n",
        "          return False\n",
        " #check if the element of subset is existed in order in second matrix or not\n",
        "        for k in range(len(second_matrix.matrix)):\n",
        "          for v in range(len(second_matrix.matrix[0])):\n",
        "\n",
        "            for i in range(m):\n",
        "              for j in range(n):\n",
        "                if(i + k <len(second_matrix.matrix) and j+v < len(second_matrix.matrix[0])):\n",
        "                  if self.matrix[i][j]  == second_matrix.matrix[i+k][j+v]:\n",
        "                    activate = True\n",
        "                  else:\n",
        "                    activate =False\n",
        "              if activate == False :\n",
        "                break;\n",
        "            if activate == True:\n",
        "               return True\n",
        "\n",
        "\n",
        "        return False\n",
        "\n",
        "\n",
        "    def dot_product(self, second_matrix):\n",
        "        \"\"\"\n",
        "        Calculate the dot product between this Matrix object and another Matrix object.\n",
        "\n",
        "        Parameters:\n",
        "        - second_matrix (Matrix): Another Matrix object for the dot product.\n",
        "\n",
        "        Returns:\n",
        "        - Matrix: The result of the dot product as a numpy.ndarray.\n",
        "        \"\"\"\n",
        "        if len(self.matrix[0]) != len(second_matrix.matrix):\n",
        "          raise ValueError(\"The two matrices must have the same number of columns.\")\n",
        "\n",
        "        result = [[0 for i in range(len(second_matrix.matrix[0]))] for j in range(len(self.matrix))]\n",
        "        for i in range(len(self.matrix)):\n",
        "          for j in range(len(second_matrix.matrix[0])):\n",
        "            for k in range(len(self.matrix[0])):\n",
        "              result[i][j] += self.matrix[i][k] * second_matrix.matrix[k][j]\n",
        "        return Matrix(result)\n",
        "\n",
        ""
      ]
    },
    {
      "cell_type": "code",
      "execution_count": 16,
      "metadata": {
        "id": "OEQOibmHRgTw",
        "colab": {
          "base_uri": "https://localhost:8080/"
        },
        "outputId": "3a31467e-67c7-477a-9e7f-dd231f94894d"
      },
      "outputs": [
        {
          "output_type": "stream",
          "name": "stdout",
          "text": [
            "False matrix 1 equality\n",
            "False matrix 2 equality\n"
          ]
        }
      ],
      "source": [
        "matrix1 = Matrix([[1, 2, 3], [4, 5, 6], [7, 8, 9]])\n",
        "matrix2 = Matrix([[0, 0, 0], [4, 5, 6], [7, 8, 9]])\n",
        "\n",
        "print(matrix1.is_equal(matrix2) , \"matrix 1 equality\")\n",
        "print(matrix2.is_equal(matrix1) , \"matrix 2 equality\")\n",
        "\n",
        "# test equality of matrices here and show the result #\n"
      ]
    },
    {
      "cell_type": "code",
      "execution_count": 17,
      "metadata": {
        "id": "EzLXxCOLRgTw",
        "colab": {
          "base_uri": "https://localhost:8080/"
        },
        "outputId": "69828cc3-1787-4716-e024-1fd767f671cf"
      },
      "outputs": [
        {
          "output_type": "stream",
          "name": "stdout",
          "text": [
            "[[True, True, True], [False, False, False], [True, False, False]]\n"
          ]
        }
      ],
      "source": [
        "matrix3 = Matrix([[0, 0, 0], [10, 20, 30], [-1, 8, 10]])\n",
        "print(matrix1.is_higher_elementwise(matrix3).matrix)\n",
        "# test proportion of matrices here and show the result #\n",
        "\n"
      ]
    },
    {
      "cell_type": "code",
      "execution_count": 18,
      "metadata": {
        "id": "i0O_mfA8RgTw",
        "colab": {
          "base_uri": "https://localhost:8080/"
        },
        "outputId": "da2a8a6e-5b85-4451-bdae-050469c27919"
      },
      "outputs": [
        {
          "output_type": "stream",
          "name": "stdout",
          "text": [
            "True matrix4\n",
            "True matrix5\n",
            "False matrix6\n"
          ]
        }
      ],
      "source": [
        "matrix4 = Matrix([[5, 6], [8, 9]]) #True\n",
        "matrix5 = Matrix([[1, 2], [4,5]]) #True\n",
        "matrix6 = Matrix([[1, 2], [3, 4]]) #False\n",
        "print(matrix4.is_subset(matrix1),\"matrix4\")\n",
        "print(matrix5.is_subset(matrix1),\"matrix5\")\n",
        "print(matrix6.is_subset(matrix1),\"matrix6\")\n",
        "\n",
        "# test subset of matrices here and show the result #\n"
      ]
    },
    {
      "cell_type": "code",
      "execution_count": 19,
      "metadata": {
        "id": "Pgkjo7RLRgTw",
        "colab": {
          "base_uri": "https://localhost:8080/"
        },
        "outputId": "1d8480f2-dfda-481e-e238-e3e9215560cf"
      },
      "outputs": [
        {
          "output_type": "stream",
          "name": "stdout",
          "text": [
            "matrix result [[11, 7], [14, 18], [7, 19]]\n",
            "numpy result [[11  7]\n",
            " [14 18]\n",
            " [ 7 19]]\n"
          ]
        }
      ],
      "source": [
        "matrix7 = Matrix([[3, 1], [2, 4], [-1, 5]])\n",
        "matrix8 = Matrix([[3, 1], [2, 4]])\n",
        "print( \"matrix result\", matrix7.dot_product(matrix8).matrix)\n",
        "print( \"numpy result\" , np.dot(matrix7.matrix, matrix8.matrix))\n",
        "\n",
        "\n",
        "# test product of matrices here and show the result #\n",
        "\n"
      ]
    }
  ],
  "metadata": {
    "language_info": {
      "name": "python"
    },
    "orig_nbformat": 4,
    "colab": {
      "provenance": []
    },
    "kernelspec": {
      "name": "python3",
      "display_name": "Python 3"
    }
  },
  "nbformat": 4,
  "nbformat_minor": 0
}
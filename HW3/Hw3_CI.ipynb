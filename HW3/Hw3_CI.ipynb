{
  "nbformat": 4,
  "nbformat_minor": 0,
  "metadata": {
    "colab": {
      "provenance": []
    },
    "kernelspec": {
      "name": "python3",
      "display_name": "Python 3"
    },
    "language_info": {
      "name": "python"
    }
  },
  "cells": [
    {
      "cell_type": "markdown",
      "source": [
        "## Q3"
      ],
      "metadata": {
        "id": "afNxYOUgJZ5d"
      }
    },
    {
      "cell_type": "code",
      "source": [
        "import numpy as np\n",
        "import matplotlib.pyplot as plt"
      ],
      "metadata": {
        "id": "O3mxQBm7Jamk"
      },
      "execution_count": 51,
      "outputs": []
    },
    {
      "cell_type": "markdown",
      "source": [
        "Useful functions"
      ],
      "metadata": {
        "id": "xdaGv6q3LMwY"
      }
    },
    {
      "cell_type": "code",
      "source": [
        "def relu(Z):\n",
        "    return np.maximum(0,Z)\n",
        "## RelU backward\n",
        "def relu_backward(Z):\n",
        "    return 1.*(Z>0)\n",
        "\n",
        "#Loss function\n",
        "def mse_loss(Y_hat, Y_true):\n",
        "    return np.mean((Y_hat - Y_true) ** 2)"
      ],
      "metadata": {
        "id": "xnNJjW2ILKQJ"
      },
      "execution_count": 52,
      "outputs": []
    },
    {
      "cell_type": "code",
      "source": [
        "class MLP:\n",
        "    def __init__(self, input_layer, hidden_layer1, hidden_layer2,output_layer):\n",
        "\n",
        "        self.W1 = np.random.randn(hidden_layer1, input_layer)\n",
        "        self.b1 = np.zeros((hidden_layer1, 1))\n",
        "\n",
        "        self.W2 = np.random.randn(hidden_layer2, hidden_layer1)\n",
        "        self.b2 = np.zeros((hidden_layer2, 1))\n",
        "\n",
        "        self.W3 = np.random.randn(output_layer, hidden_layer2)\n",
        "        self.b3 = np.zeros((output_layer, 1))\n",
        "\n",
        "    def forward(self, X):\n",
        "      #Wi.xi + b\n",
        "        self.Z1 = np.dot(self.W1, X) + self.b1\n",
        "        self.A1 = relu(self.Z1)\n",
        "        #layer 2\n",
        "        self.Z2 = np.dot(self.W2, self.A1) + self.b2\n",
        "        self.A2 = relu(self.Z2)\n",
        "        #output layer\n",
        "        self.Z3 = np.dot(self.W3, self.A2) + self.b3\n",
        "        self.A3 = self.Z3\n",
        "        return self.A3\n",
        "\n",
        "    def backward(self, X, Y, learning_rate):\n",
        "        m = X.shape[1]\n",
        "        dZ3 = 2 * (self.A3 - Y)\n",
        "        dW3 = (1 / m) * np.dot(dZ3, self.A2.T)\n",
        "        db3 = (1 / m) * np.sum(dZ3, axis=1, keepdims=True)\n",
        "\n",
        "        dZ2 = np.dot(self.W3.T, dZ3) *relu_backward(self.Z2)\n",
        "        dW2 = (1 / m) * np.dot(dZ2, self.A1.T)\n",
        "        db2 = (1 / m) * np.sum(dZ2, axis=1, keepdims=True)\n",
        "\n",
        "        dZ1 = np.dot(self.W2.T, dZ2) *relu_backward(self.Z1)\n",
        "        dW1 = (1 / m) * np.dot(dZ1, X.T)\n",
        "        db1 = (1 / m) * np.sum(dZ1, axis=1, keepdims=True)\n",
        "\n",
        "        # Update with gradiant descent formula\n",
        "        self.W3 -= learning_rate * dW3\n",
        "        self.b3 -= learning_rate * db3\n",
        "        self.W2 -= learning_rate * dW2\n",
        "        self.b2 -= learning_rate * db2\n",
        "        self.W1 -= learning_rate * dW1\n",
        "        self.b1 -= learning_rate * db1\n",
        "\n",
        "    def train(self, X, Y, num_iterations, learning_rate):\n",
        "        for i in range(num_iterations):\n",
        "            output = self.forward(X)\n",
        "            self.backward(X, Y, learning_rate)\n",
        "            if i % 100 == 0:\n",
        "                loss = mse_loss(output, Y)\n",
        "                print(f\"Epoch {i}, Loss: {loss}\")\n",
        "\n",
        "\n",
        "\n",
        "X_train = np.arange(-3, 3, 0.1).reshape(1, -1)\n",
        "Y_train = X_train ** 2\n",
        "\n",
        "mlp = MLP(input_layer=1, hidden_layer1=16, hidden_layer2=16,output_layer=1)\n",
        "mlp.train(X_train, Y_train, num_iterations=2000, learning_rate=0.01)\n",
        "\n",
        "\n",
        "X_test = np.arange(-3, 3, 0.1).reshape(1, -1)\n",
        "predictions = mlp.forward(X_test)\n",
        "print(\"Predictions:\")\n",
        "print(predictions)\n",
        "print(\"Actual values:\")\n",
        "print(X_test ** 2)"
      ],
      "metadata": {
        "colab": {
          "base_uri": "https://localhost:8080/"
        },
        "id": "rV9uKFYWMp3W",
        "outputId": "1b1fd133-c583-4af8-9486-6422b7728856"
      },
      "execution_count": 53,
      "outputs": [
        {
          "output_type": "stream",
          "name": "stdout",
          "text": [
            "Epoch 0, Loss: 124.68484296671338\n",
            "Epoch 100, Loss: 0.15543878656076318\n",
            "Epoch 200, Loss: 0.06471937060189446\n",
            "Epoch 300, Loss: 0.03789536330559897\n",
            "Epoch 400, Loss: 0.02529342658839911\n",
            "Epoch 500, Loss: 0.018253385953440598\n",
            "Epoch 600, Loss: 0.013671811665460738\n",
            "Epoch 700, Loss: 0.011658049631111566\n",
            "Epoch 800, Loss: 0.009582936601996939\n",
            "Epoch 900, Loss: 0.008697920662745644\n",
            "Epoch 1000, Loss: 0.00811432210578126\n",
            "Epoch 1100, Loss: 0.0076069844784394805\n",
            "Epoch 1200, Loss: 0.007230366844426933\n",
            "Epoch 1300, Loss: 0.006944248314630558\n",
            "Epoch 1400, Loss: 0.006709624494993129\n",
            "Epoch 1500, Loss: 0.0065284937153185195\n",
            "Epoch 1600, Loss: 0.005895976158942666\n",
            "Epoch 1700, Loss: 0.005644526569116663\n",
            "Epoch 1800, Loss: 0.005486009036034161\n",
            "Epoch 1900, Loss: 0.0052541286211290755\n",
            "Predictions:\n",
            "[[8.85271961e+00 8.34781533e+00 7.84291106e+00 7.33800679e+00\n",
            "  6.83310251e+00 6.32819824e+00 5.82329397e+00 5.33074404e+00\n",
            "  4.83826215e+00 4.34578025e+00 3.91301945e+00 3.58812843e+00\n",
            "  3.25713544e+00 2.92614246e+00 2.59514948e+00 2.26415650e+00\n",
            "  1.97606392e+00 1.73592371e+00 1.49578350e+00 1.25564329e+00\n",
            "  1.01550308e+00 7.75362872e-01 5.69792332e-01 3.64957482e-01\n",
            "  2.81089850e-01 2.90927138e-01 1.97237058e-01 1.00476450e-01\n",
            "  3.59941591e-02 4.67173348e-02 2.43295794e-02 2.72588518e-03\n",
            "  2.86568921e-02 6.72338626e-02 1.14388592e-01 1.76677919e-01\n",
            "  3.43525080e-01 5.10372241e-01 6.77219402e-01 8.48762373e-01\n",
            "  1.07119240e+00 1.29362242e+00 1.51605245e+00 1.73848247e+00\n",
            "  1.96091250e+00 2.18334252e+00 2.40577255e+00 2.70048378e+00\n",
            "  3.14947249e+00 3.59846121e+00 4.04744992e+00 4.49643863e+00\n",
            "  4.94542735e+00 5.39651410e+00 5.86702304e+00 6.33753198e+00\n",
            "  6.80804092e+00 7.27854987e+00 7.74905881e+00 8.21956775e+00]]\n",
            "Actual values:\n",
            "[[9.00000000e+00 8.41000000e+00 7.84000000e+00 7.29000000e+00\n",
            "  6.76000000e+00 6.25000000e+00 5.76000000e+00 5.29000000e+00\n",
            "  4.84000000e+00 4.41000000e+00 4.00000000e+00 3.61000000e+00\n",
            "  3.24000000e+00 2.89000000e+00 2.56000000e+00 2.25000000e+00\n",
            "  1.96000000e+00 1.69000000e+00 1.44000000e+00 1.21000000e+00\n",
            "  1.00000000e+00 8.10000000e-01 6.40000000e-01 4.90000000e-01\n",
            "  3.60000000e-01 2.50000000e-01 1.60000000e-01 9.00000000e-02\n",
            "  4.00000000e-02 1.00000000e-02 7.09974815e-30 1.00000000e-02\n",
            "  4.00000000e-02 9.00000000e-02 1.60000000e-01 2.50000000e-01\n",
            "  3.60000000e-01 4.90000000e-01 6.40000000e-01 8.10000000e-01\n",
            "  1.00000000e+00 1.21000000e+00 1.44000000e+00 1.69000000e+00\n",
            "  1.96000000e+00 2.25000000e+00 2.56000000e+00 2.89000000e+00\n",
            "  3.24000000e+00 3.61000000e+00 4.00000000e+00 4.41000000e+00\n",
            "  4.84000000e+00 5.29000000e+00 5.76000000e+00 6.25000000e+00\n",
            "  6.76000000e+00 7.29000000e+00 7.84000000e+00 8.41000000e+00]]\n"
          ]
        }
      ]
    },
    {
      "cell_type": "code",
      "source": [
        "#plot sections\n",
        "plt.plot(X_test.flatten(), X_test.flatten() ** 2, label='Values')\n",
        "plt.plot(X_test.flatten(), predictions.flatten(), label='Predictions')\n",
        "plt.xlabel('X')\n",
        "plt.ylabel('Y')\n",
        "plt.title('values vs Prediction')\n",
        "plt.legend()\n",
        "plt.show()"
      ],
      "metadata": {
        "colab": {
          "base_uri": "https://localhost:8080/",
          "height": 472
        },
        "id": "HM0Af1lgVq1n",
        "outputId": "c53464ac-9f74-495e-a5a9-37b4be9d29cb"
      },
      "execution_count": 54,
      "outputs": [
        {
          "output_type": "display_data",
          "data": {
            "text/plain": [
              "<Figure size 640x480 with 1 Axes>"
            ],
            "image/png": "[encoded data removed]"
          },
          "metadata": {}
        }
      ]
    },
    {
      "cell_type": "markdown",
      "source": [
        "## Q4"
      ],
      "metadata": {
        "id": "mZUMhu-WsnN9"
      }
    },
    {
      "cell_type": "code",
      "source": [
        "binary_sequences = [[0, 1, 0, 0, 0, 0], [1, 1, 1, 1, 0, 0]]\n",
        "input_size = 6\n",
        "\n",
        "#weight_matrix\n",
        "weight_matrix = np.zeros((input_size, input_size))\n",
        "for binary_sequence in binary_sequences:\n",
        "    binary = np.array(binary_sequence)\n",
        "    weight_matrix += np.outer(binary, binary)\n",
        "np.fill_diagonal(weight_matrix, 0)\n",
        "print(\"weight Matrix\")\n",
        "print(weight_matrix)\n",
        "\n",
        "def update(pattern, matrix):\n",
        "    sum = np.dot(matrix, pattern)\n",
        "    updated_state = np.sign(sum)\n",
        "    return updated_state\n",
        "\n",
        "def convergence(current, previous):\n",
        "    return np.array_equal(current, previous)\n",
        "\n",
        "def run_hopfield_network(pattern, weight_matrix):\n",
        "    current = pattern.copy()\n",
        "    previous = np.zeros_like(pattern)\n",
        "\n",
        "    while not convergence(current, previous):\n",
        "\n",
        "        previous = current.copy()\n",
        "        current = update(current, weight_matrix)\n",
        "    return current\n",
        "\n",
        "\n",
        "result = run_hopfield_network(binary_sequences[0], weight_matrix)\n",
        "print(\"Result:\", result)\n",
        "\n",
        "\n",
        "\n"
      ],
      "metadata": {
        "colab": {
          "base_uri": "https://localhost:8080/"
        },
        "id": "EOw6LPzDso6d",
        "outputId": "63cbdb63-51db-4c84-8aa3-4fd0c8a177fc"
      },
      "execution_count": 104,
      "outputs": [
        {
          "output_type": "stream",
          "name": "stdout",
          "text": [
            "weight Matrix\n",
            "[[0. 1. 1. 1. 0. 0.]\n",
            " [1. 0. 1. 1. 0. 0.]\n",
            " [1. 1. 0. 1. 0. 0.]\n",
            " [1. 1. 1. 0. 0. 0.]\n",
            " [0. 0. 0. 0. 0. 0.]\n",
            " [0. 0. 0. 0. 0. 0.]]\n",
            "Result: [1. 1. 1. 1. 0. 0.]\n"
          ]
        }
      ]
    },
    {
      "cell_type": "markdown",
      "source": [
        "## Q5"
      ],
      "metadata": {
        "id": "HDs3JBcyhdQt"
      }
    },
    {
      "cell_type": "code",
      "source": [
        "#For example : consider a 10*10 Kohenon map with different coordinate weights\n",
        "#random weight initialization\n",
        "x = np.random.rand(100)\n",
        "y = np.random.rand(100)\n",
        "som = np.column_stack((x, y)) * 1000\n",
        "#initialize Hyperparameters:\n",
        "iterations = 600\n",
        "sigma = 30\n",
        "learning_rate= 0.3\n",
        "#define Gaussian function\n",
        "radius = np.random.rand()\n",
        "def Gaussian_neighborhood(radius, r, sigma):\n",
        "  return  np.exp(-(np.abs(radius - r) ** 2) / (2 * sigma ** 2))\n",
        "# Competition , Cooperation and adaptation\n",
        "#Imagenary data list (not empty in reality)\n",
        "Data = []\n",
        "for i in range(iterations):\n",
        "  #decrease sigma value in each round in order to be more accurate in farther iterations\n",
        "    sigma -= 0.05\n",
        "    for j in range(len(Data)):\n",
        "        #Competition of neorons for each data\n",
        "        r_min = np.argmin(np.linalg.norm(som - Data[j], axis=1))\n",
        "        #Adaptation and update weight values\n",
        "        for k in range(len(som)):\n",
        "            som[k] += learning_rate * Gaussian_neighborhood(k, r_min, sigma) * (Data[j] - som[k])\n",
        "\n"
      ],
      "metadata": {
        "id": "JC_mI9T2hgHI"
      },
      "execution_count": 67,
      "outputs": []
    }
  ]
}